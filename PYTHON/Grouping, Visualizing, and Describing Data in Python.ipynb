{
 "cells": [
  {
   "cell_type": "markdown",
   "id": "d75701e3-b773-4e12-833b-22708f8f7146",
   "metadata": {},
   "source": [
    "# Grouping, Visualizing, and Describing Data in Python"
   ]
  },
  {
   "cell_type": "markdown",
   "id": "1386ef1e-a6a1-4a7c-862b-3825c75f2f74",
   "metadata": {},
   "source": [
    "## 📊 Part A: Aggregating and Grouping with Pandas"
   ]
  },
  {
   "cell_type": "code",
   "execution_count": 1,
   "id": "510869a1-a89b-4e19-8322-a5b46be1cba8",
   "metadata": {},
   "outputs": [],
   "source": [
    "import pandas as pd\n",
    "import numpy as np\n",
    "import matplotlib.pyplot as plt\n",
    "import seaborn as sns"
   ]
  },
  {
   "cell_type": "code",
   "execution_count": 2,
   "id": "e93d3c56-aabf-4156-a8e5-f81e411ca9b4",
   "metadata": {},
   "outputs": [
    {
     "data": {
      "text/html": [
       "<div>\n",
       "<style scoped>\n",
       "    .dataframe tbody tr th:only-of-type {\n",
       "        vertical-align: middle;\n",
       "    }\n",
       "\n",
       "    .dataframe tbody tr th {\n",
       "        vertical-align: top;\n",
       "    }\n",
       "\n",
       "    .dataframe thead th {\n",
       "        text-align: right;\n",
       "    }\n",
       "</style>\n",
       "<table border=\"1\" class=\"dataframe\">\n",
       "  <thead>\n",
       "    <tr style=\"text-align: right;\">\n",
       "      <th></th>\n",
       "      <th>region</th>\n",
       "      <th>product_category</th>\n",
       "      <th>sales_amount</th>\n",
       "      <th>quantity_sold</th>\n",
       "      <th>month</th>\n",
       "    </tr>\n",
       "  </thead>\n",
       "  <tbody>\n",
       "    <tr>\n",
       "      <th>0</th>\n",
       "      <td>East</td>\n",
       "      <td>Clothing</td>\n",
       "      <td>105.33</td>\n",
       "      <td>1</td>\n",
       "      <td>May</td>\n",
       "    </tr>\n",
       "    <tr>\n",
       "      <th>1</th>\n",
       "      <td>West</td>\n",
       "      <td>Home</td>\n",
       "      <td>59.94</td>\n",
       "      <td>9</td>\n",
       "      <td>Feb</td>\n",
       "    </tr>\n",
       "    <tr>\n",
       "      <th>2</th>\n",
       "      <td>North</td>\n",
       "      <td>Electronics</td>\n",
       "      <td>111.41</td>\n",
       "      <td>1</td>\n",
       "      <td>Mar</td>\n",
       "    </tr>\n",
       "    <tr>\n",
       "      <th>3</th>\n",
       "      <td>East</td>\n",
       "      <td>Electronics</td>\n",
       "      <td>118.32</td>\n",
       "      <td>3</td>\n",
       "      <td>Mar</td>\n",
       "    </tr>\n",
       "    <tr>\n",
       "      <th>4</th>\n",
       "      <td>East</td>\n",
       "      <td>Electronics</td>\n",
       "      <td>116.79</td>\n",
       "      <td>8</td>\n",
       "      <td>Apr</td>\n",
       "    </tr>\n",
       "  </tbody>\n",
       "</table>\n",
       "</div>"
      ],
      "text/plain": [
       "  region product_category  sales_amount  quantity_sold month\n",
       "0   East         Clothing        105.33              1   May\n",
       "1   West             Home         59.94              9   Feb\n",
       "2  North      Electronics        111.41              1   Mar\n",
       "3   East      Electronics        118.32              3   Mar\n",
       "4   East      Electronics        116.79              8   Apr"
      ]
     },
     "execution_count": 2,
     "metadata": {},
     "output_type": "execute_result"
    }
   ],
   "source": [
    "df= pd.read_csv('datasets/retail_data.csv')\n",
    "df.head()"
   ]
  },
  {
   "cell_type": "code",
   "execution_count": 3,
   "id": "3a243617-692e-4089-aa1e-1657c9564758",
   "metadata": {},
   "outputs": [
    {
     "data": {
      "text/html": [
       "<div>\n",
       "<style scoped>\n",
       "    .dataframe tbody tr th:only-of-type {\n",
       "        vertical-align: middle;\n",
       "    }\n",
       "\n",
       "    .dataframe tbody tr th {\n",
       "        vertical-align: top;\n",
       "    }\n",
       "\n",
       "    .dataframe thead th {\n",
       "        text-align: right;\n",
       "    }\n",
       "</style>\n",
       "<table border=\"1\" class=\"dataframe\">\n",
       "  <thead>\n",
       "    <tr style=\"text-align: right;\">\n",
       "      <th></th>\n",
       "      <th>sales_amount</th>\n",
       "    </tr>\n",
       "    <tr>\n",
       "      <th>region</th>\n",
       "      <th></th>\n",
       "    </tr>\n",
       "  </thead>\n",
       "  <tbody>\n",
       "    <tr>\n",
       "      <th>East</th>\n",
       "      <td>7827.29</td>\n",
       "    </tr>\n",
       "    <tr>\n",
       "      <th>North</th>\n",
       "      <td>7862.64</td>\n",
       "    </tr>\n",
       "    <tr>\n",
       "      <th>South</th>\n",
       "      <td>6916.63</td>\n",
       "    </tr>\n",
       "    <tr>\n",
       "      <th>West</th>\n",
       "      <td>8583.18</td>\n",
       "    </tr>\n",
       "  </tbody>\n",
       "</table>\n",
       "</div>"
      ],
      "text/plain": [
       "        sales_amount\n",
       "region              \n",
       "East         7827.29\n",
       "North        7862.64\n",
       "South        6916.63\n",
       "West         8583.18"
      ]
     },
     "execution_count": 3,
     "metadata": {},
     "output_type": "execute_result"
    }
   ],
   "source": [
    "sales_per_region= df.groupby('region')[['sales_amount']].sum()\n",
    "\n",
    "sales_per_region"
   ]
  },
  {
   "cell_type": "code",
   "execution_count": 4,
   "id": "b2777490-5831-4981-ab01-c70040ece272",
   "metadata": {},
   "outputs": [
    {
     "data": {
      "text/plain": [
       "month\n",
       "Apr    4411.59\n",
       "Feb    4801.83\n",
       "Jan    5247.66\n",
       "Jun    5128.46\n",
       "Mar    5301.25\n",
       "May    6298.95\n",
       "Name: sales_amount, dtype: float64"
      ]
     },
     "execution_count": 4,
     "metadata": {},
     "output_type": "execute_result"
    }
   ],
   "source": [
    "sales_per_month= df.groupby('month')['sales_amount'].sum()\n",
    "sales_per_month"
   ]
  },
  {
   "cell_type": "code",
   "execution_count": 5,
   "id": "22fb8e70-3132-483d-8612-4a34d53b43e5",
   "metadata": {},
   "outputs": [
    {
     "data": {
      "text/plain": [
       "product_category\n",
       "Books          54\n",
       "Clothing       82\n",
       "Electronics    87\n",
       "Home           77\n",
       "Name: quantity_sold, dtype: int64"
      ]
     },
     "execution_count": 5,
     "metadata": {},
     "output_type": "execute_result"
    }
   ],
   "source": [
    "product_sold_per_category= df.groupby('product_category')['quantity_sold'].count()\n",
    "\n",
    "product_sold_per_category"
   ]
  },
  {
   "cell_type": "code",
   "execution_count": 6,
   "id": "cad28ac3-a75b-41b8-8222-fd1af11014f9",
   "metadata": {},
   "outputs": [
    {
     "data": {
      "text/html": [
       "<div>\n",
       "<style scoped>\n",
       "    .dataframe tbody tr th:only-of-type {\n",
       "        vertical-align: middle;\n",
       "    }\n",
       "\n",
       "    .dataframe tbody tr th {\n",
       "        vertical-align: top;\n",
       "    }\n",
       "\n",
       "    .dataframe thead th {\n",
       "        text-align: right;\n",
       "    }\n",
       "</style>\n",
       "<table border=\"1\" class=\"dataframe\">\n",
       "  <thead>\n",
       "    <tr style=\"text-align: right;\">\n",
       "      <th></th>\n",
       "      <th></th>\n",
       "      <th>sales_amount</th>\n",
       "    </tr>\n",
       "    <tr>\n",
       "      <th>product_category</th>\n",
       "      <th>region</th>\n",
       "      <th></th>\n",
       "    </tr>\n",
       "  </thead>\n",
       "  <tbody>\n",
       "    <tr>\n",
       "      <th rowspan=\"4\" valign=\"top\">Books</th>\n",
       "      <th>East</th>\n",
       "      <td>963.21</td>\n",
       "    </tr>\n",
       "    <tr>\n",
       "      <th>North</th>\n",
       "      <td>1121.29</td>\n",
       "    </tr>\n",
       "    <tr>\n",
       "      <th>South</th>\n",
       "      <td>1187.80</td>\n",
       "    </tr>\n",
       "    <tr>\n",
       "      <th>West</th>\n",
       "      <td>2022.89</td>\n",
       "    </tr>\n",
       "    <tr>\n",
       "      <th rowspan=\"4\" valign=\"top\">Clothing</th>\n",
       "      <th>East</th>\n",
       "      <td>2040.18</td>\n",
       "    </tr>\n",
       "    <tr>\n",
       "      <th>North</th>\n",
       "      <td>2273.95</td>\n",
       "    </tr>\n",
       "    <tr>\n",
       "      <th>South</th>\n",
       "      <td>1688.35</td>\n",
       "    </tr>\n",
       "    <tr>\n",
       "      <th>West</th>\n",
       "      <td>2368.17</td>\n",
       "    </tr>\n",
       "    <tr>\n",
       "      <th rowspan=\"4\" valign=\"top\">Electronics</th>\n",
       "      <th>East</th>\n",
       "      <td>2617.60</td>\n",
       "    </tr>\n",
       "    <tr>\n",
       "      <th>North</th>\n",
       "      <td>1976.14</td>\n",
       "    </tr>\n",
       "    <tr>\n",
       "      <th>South</th>\n",
       "      <td>2074.23</td>\n",
       "    </tr>\n",
       "    <tr>\n",
       "      <th>West</th>\n",
       "      <td>2549.34</td>\n",
       "    </tr>\n",
       "    <tr>\n",
       "      <th rowspan=\"4\" valign=\"top\">Home</th>\n",
       "      <th>East</th>\n",
       "      <td>2206.30</td>\n",
       "    </tr>\n",
       "    <tr>\n",
       "      <th>North</th>\n",
       "      <td>2491.26</td>\n",
       "    </tr>\n",
       "    <tr>\n",
       "      <th>South</th>\n",
       "      <td>1966.25</td>\n",
       "    </tr>\n",
       "    <tr>\n",
       "      <th>West</th>\n",
       "      <td>1642.78</td>\n",
       "    </tr>\n",
       "  </tbody>\n",
       "</table>\n",
       "</div>"
      ],
      "text/plain": [
       "                         sales_amount\n",
       "product_category region              \n",
       "Books            East          963.21\n",
       "                 North        1121.29\n",
       "                 South        1187.80\n",
       "                 West         2022.89\n",
       "Clothing         East         2040.18\n",
       "                 North        2273.95\n",
       "                 South        1688.35\n",
       "                 West         2368.17\n",
       "Electronics      East         2617.60\n",
       "                 North        1976.14\n",
       "                 South        2074.23\n",
       "                 West         2549.34\n",
       "Home             East         2206.30\n",
       "                 North        2491.26\n",
       "                 South        1966.25\n",
       "                 West         1642.78"
      ]
     },
     "execution_count": 6,
     "metadata": {},
     "output_type": "execute_result"
    }
   ],
   "source": [
    "detailed_summary= df.groupby(['product_category','region'])[['sales_amount']].sum()\n",
    "\n",
    "detailed_summary"
   ]
  },
  {
   "cell_type": "code",
   "execution_count": 7,
   "id": "c2213641-622c-41db-9e65-d9faf46030b5",
   "metadata": {},
   "outputs": [
    {
     "data": {
      "text/html": [
       "<div>\n",
       "<style scoped>\n",
       "    .dataframe tbody tr th:only-of-type {\n",
       "        vertical-align: middle;\n",
       "    }\n",
       "\n",
       "    .dataframe tbody tr th {\n",
       "        vertical-align: top;\n",
       "    }\n",
       "\n",
       "    .dataframe thead th {\n",
       "        text-align: right;\n",
       "    }\n",
       "</style>\n",
       "<table border=\"1\" class=\"dataframe\">\n",
       "  <thead>\n",
       "    <tr style=\"text-align: right;\">\n",
       "      <th></th>\n",
       "      <th>sum</th>\n",
       "      <th>mean</th>\n",
       "      <th>count</th>\n",
       "      <th>min</th>\n",
       "      <th>max</th>\n",
       "    </tr>\n",
       "    <tr>\n",
       "      <th>region</th>\n",
       "      <th></th>\n",
       "      <th></th>\n",
       "      <th></th>\n",
       "      <th></th>\n",
       "      <th></th>\n",
       "    </tr>\n",
       "  </thead>\n",
       "  <tbody>\n",
       "    <tr>\n",
       "      <th>East</th>\n",
       "      <td>7827.29</td>\n",
       "      <td>101.653117</td>\n",
       "      <td>77</td>\n",
       "      <td>34.04</td>\n",
       "      <td>175.81</td>\n",
       "    </tr>\n",
       "    <tr>\n",
       "      <th>North</th>\n",
       "      <td>7862.64</td>\n",
       "      <td>106.251892</td>\n",
       "      <td>74</td>\n",
       "      <td>49.94</td>\n",
       "      <td>173.66</td>\n",
       "    </tr>\n",
       "    <tr>\n",
       "      <th>South</th>\n",
       "      <td>6916.63</td>\n",
       "      <td>101.715147</td>\n",
       "      <td>68</td>\n",
       "      <td>43.31</td>\n",
       "      <td>168.97</td>\n",
       "    </tr>\n",
       "    <tr>\n",
       "      <th>West</th>\n",
       "      <td>8583.18</td>\n",
       "      <td>105.965185</td>\n",
       "      <td>81</td>\n",
       "      <td>14.54</td>\n",
       "      <td>164.90</td>\n",
       "    </tr>\n",
       "  </tbody>\n",
       "</table>\n",
       "</div>"
      ],
      "text/plain": [
       "            sum        mean  count    min     max\n",
       "region                                           \n",
       "East    7827.29  101.653117     77  34.04  175.81\n",
       "North   7862.64  106.251892     74  49.94  173.66\n",
       "South   6916.63  101.715147     68  43.31  168.97\n",
       "West    8583.18  105.965185     81  14.54  164.90"
      ]
     },
     "execution_count": 7,
     "metadata": {},
     "output_type": "execute_result"
    }
   ],
   "source": [
    "region_summary = df.groupby('region')['sales_amount'].agg(['sum','mean','count','min','max'])\n",
    "region_summary"
   ]
  },
  {
   "cell_type": "markdown",
   "id": "9c09d341-29be-4cb1-a127-ef50a805e605",
   "metadata": {},
   "source": [
    "##### Custom Aggregations"
   ]
  },
  {
   "cell_type": "code",
   "execution_count": 8,
   "id": "d613d9d7-cd9c-414b-bc6b-9af7d69c9033",
   "metadata": {},
   "outputs": [],
   "source": [
    "def sales_range(x):\n",
    "    return x.max() - x.min()"
   ]
  },
  {
   "cell_type": "code",
   "execution_count": 9,
   "id": "606008be-2e61-49ec-8eb5-40cbda134466",
   "metadata": {},
   "outputs": [
    {
     "data": {
      "text/html": [
       "<div>\n",
       "<style scoped>\n",
       "    .dataframe tbody tr th:only-of-type {\n",
       "        vertical-align: middle;\n",
       "    }\n",
       "\n",
       "    .dataframe tbody tr th {\n",
       "        vertical-align: top;\n",
       "    }\n",
       "\n",
       "    .dataframe thead th {\n",
       "        text-align: right;\n",
       "    }\n",
       "</style>\n",
       "<table border=\"1\" class=\"dataframe\">\n",
       "  <thead>\n",
       "    <tr style=\"text-align: right;\">\n",
       "      <th></th>\n",
       "      <th>region</th>\n",
       "      <th>sum</th>\n",
       "      <th>mean</th>\n",
       "      <th>sales_range</th>\n",
       "    </tr>\n",
       "  </thead>\n",
       "  <tbody>\n",
       "    <tr>\n",
       "      <th>0</th>\n",
       "      <td>East</td>\n",
       "      <td>7827.29</td>\n",
       "      <td>101.653117</td>\n",
       "      <td>141.77</td>\n",
       "    </tr>\n",
       "    <tr>\n",
       "      <th>1</th>\n",
       "      <td>North</td>\n",
       "      <td>7862.64</td>\n",
       "      <td>106.251892</td>\n",
       "      <td>123.72</td>\n",
       "    </tr>\n",
       "    <tr>\n",
       "      <th>2</th>\n",
       "      <td>South</td>\n",
       "      <td>6916.63</td>\n",
       "      <td>101.715147</td>\n",
       "      <td>125.66</td>\n",
       "    </tr>\n",
       "    <tr>\n",
       "      <th>3</th>\n",
       "      <td>West</td>\n",
       "      <td>8583.18</td>\n",
       "      <td>105.965185</td>\n",
       "      <td>150.36</td>\n",
       "    </tr>\n",
       "  </tbody>\n",
       "</table>\n",
       "</div>"
      ],
      "text/plain": [
       "  region      sum        mean  sales_range\n",
       "0   East  7827.29  101.653117       141.77\n",
       "1  North  7862.64  106.251892       123.72\n",
       "2  South  6916.63  101.715147       125.66\n",
       "3   West  8583.18  105.965185       150.36"
      ]
     },
     "execution_count": 9,
     "metadata": {},
     "output_type": "execute_result"
    }
   ],
   "source": [
    "custom_aggregation= df.groupby('region')['sales_amount'].agg(['sum','mean', sales_range]).reset_index()\n",
    "\n",
    "custom_aggregation"
   ]
  },
  {
   "cell_type": "markdown",
   "id": "6ff2ed28-0e29-46d3-8a75-b06ad27ca77c",
   "metadata": {},
   "source": [
    "### Pivot Tables: Your Data's Best Friend"
   ]
  },
  {
   "cell_type": "code",
   "execution_count": 10,
   "id": "a0f53e25-8d7d-4529-96b0-120d3c5ff2c4",
   "metadata": {},
   "outputs": [
    {
     "data": {
      "text/html": [
       "<div>\n",
       "<style scoped>\n",
       "    .dataframe tbody tr th:only-of-type {\n",
       "        vertical-align: middle;\n",
       "    }\n",
       "\n",
       "    .dataframe tbody tr th {\n",
       "        vertical-align: top;\n",
       "    }\n",
       "\n",
       "    .dataframe thead th {\n",
       "        text-align: right;\n",
       "    }\n",
       "</style>\n",
       "<table border=\"1\" class=\"dataframe\">\n",
       "  <thead>\n",
       "    <tr style=\"text-align: right;\">\n",
       "      <th>product_category</th>\n",
       "      <th>Books</th>\n",
       "      <th>Clothing</th>\n",
       "      <th>Electronics</th>\n",
       "      <th>Home</th>\n",
       "    </tr>\n",
       "    <tr>\n",
       "      <th>region</th>\n",
       "      <th></th>\n",
       "      <th></th>\n",
       "      <th></th>\n",
       "      <th></th>\n",
       "    </tr>\n",
       "  </thead>\n",
       "  <tbody>\n",
       "    <tr>\n",
       "      <th>East</th>\n",
       "      <td>963.21</td>\n",
       "      <td>2040.18</td>\n",
       "      <td>2617.60</td>\n",
       "      <td>2206.30</td>\n",
       "    </tr>\n",
       "    <tr>\n",
       "      <th>North</th>\n",
       "      <td>1121.29</td>\n",
       "      <td>2273.95</td>\n",
       "      <td>1976.14</td>\n",
       "      <td>2491.26</td>\n",
       "    </tr>\n",
       "    <tr>\n",
       "      <th>South</th>\n",
       "      <td>1187.80</td>\n",
       "      <td>1688.35</td>\n",
       "      <td>2074.23</td>\n",
       "      <td>1966.25</td>\n",
       "    </tr>\n",
       "    <tr>\n",
       "      <th>West</th>\n",
       "      <td>2022.89</td>\n",
       "      <td>2368.17</td>\n",
       "      <td>2549.34</td>\n",
       "      <td>1642.78</td>\n",
       "    </tr>\n",
       "  </tbody>\n",
       "</table>\n",
       "</div>"
      ],
      "text/plain": [
       "product_category    Books  Clothing  Electronics     Home\n",
       "region                                                   \n",
       "East               963.21   2040.18      2617.60  2206.30\n",
       "North             1121.29   2273.95      1976.14  2491.26\n",
       "South             1187.80   1688.35      2074.23  1966.25\n",
       "West              2022.89   2368.17      2549.34  1642.78"
      ]
     },
     "execution_count": 10,
     "metadata": {},
     "output_type": "execute_result"
    }
   ],
   "source": [
    "pivot_sales= df.pivot_table(\n",
    "    values='sales_amount',\n",
    "    index= 'region',\n",
    "    columns='product_category',\n",
    "    aggfunc='sum',\n",
    "    fill_value=0\n",
    ")\n",
    "\n",
    "pivot_sales"
   ]
  },
  {
   "cell_type": "code",
   "execution_count": 11,
   "id": "2339a870-1922-4473-a001-2582e9cc0e9a",
   "metadata": {},
   "outputs": [
    {
     "data": {
      "text/html": [
       "<div>\n",
       "<style scoped>\n",
       "    .dataframe tbody tr th:only-of-type {\n",
       "        vertical-align: middle;\n",
       "    }\n",
       "\n",
       "    .dataframe tbody tr th {\n",
       "        vertical-align: top;\n",
       "    }\n",
       "\n",
       "    .dataframe thead th {\n",
       "        text-align: right;\n",
       "    }\n",
       "</style>\n",
       "<table border=\"1\" class=\"dataframe\">\n",
       "  <thead>\n",
       "    <tr style=\"text-align: right;\">\n",
       "      <th>product_category</th>\n",
       "      <th>Books</th>\n",
       "      <th>Clothing</th>\n",
       "      <th>Electronics</th>\n",
       "      <th>Home</th>\n",
       "    </tr>\n",
       "    <tr>\n",
       "      <th>region</th>\n",
       "      <th></th>\n",
       "      <th></th>\n",
       "      <th></th>\n",
       "      <th></th>\n",
       "    </tr>\n",
       "  </thead>\n",
       "  <tbody>\n",
       "    <tr>\n",
       "      <th>East</th>\n",
       "      <td>11</td>\n",
       "      <td>22</td>\n",
       "      <td>24</td>\n",
       "      <td>20</td>\n",
       "    </tr>\n",
       "    <tr>\n",
       "      <th>North</th>\n",
       "      <td>11</td>\n",
       "      <td>23</td>\n",
       "      <td>18</td>\n",
       "      <td>22</td>\n",
       "    </tr>\n",
       "    <tr>\n",
       "      <th>South</th>\n",
       "      <td>13</td>\n",
       "      <td>16</td>\n",
       "      <td>21</td>\n",
       "      <td>18</td>\n",
       "    </tr>\n",
       "    <tr>\n",
       "      <th>West</th>\n",
       "      <td>19</td>\n",
       "      <td>21</td>\n",
       "      <td>24</td>\n",
       "      <td>17</td>\n",
       "    </tr>\n",
       "    <tr>\n",
       "      <th>Total</th>\n",
       "      <td>54</td>\n",
       "      <td>82</td>\n",
       "      <td>87</td>\n",
       "      <td>77</td>\n",
       "    </tr>\n",
       "  </tbody>\n",
       "</table>\n",
       "</div>"
      ],
      "text/plain": [
       "product_category  Books  Clothing  Electronics  Home\n",
       "region                                              \n",
       "East                 11        22           24    20\n",
       "North                11        23           18    22\n",
       "South                13        16           21    18\n",
       "West                 19        21           24    17\n",
       "Total                54        82           87    77"
      ]
     },
     "execution_count": 11,
     "metadata": {},
     "output_type": "execute_result"
    }
   ],
   "source": [
    "quantity_sold_pivot= df.pivot_table(\n",
    "    values='quantity_sold',\n",
    "    index= 'region',\n",
    "    columns='product_category',\n",
    "    aggfunc='count',\n",
    "    fill_value=0\n",
    ")\n",
    "\n",
    "quantity_sold_pivot.loc['Total']= quantity_sold_pivot.sum()\n",
    "quantity_sold_pivot"
   ]
  },
  {
   "cell_type": "markdown",
   "id": "14940850-3928-41d8-8ced-d8334ed1e312",
   "metadata": {},
   "source": [
    "#### 🏆 Ranking and Sorting"
   ]
  },
  {
   "cell_type": "code",
   "execution_count": 12,
   "id": "9ff8a3a2-d47a-4ff4-8a89-fc5e38dd8f7f",
   "metadata": {},
   "outputs": [
    {
     "data": {
      "text/plain": [
       "region\n",
       "West     8583.18\n",
       "North    7862.64\n",
       "East     7827.29\n",
       "South    6916.63\n",
       "Name: sales_amount, dtype: float64"
      ]
     },
     "execution_count": 12,
     "metadata": {},
     "output_type": "execute_result"
    }
   ],
   "source": [
    "# Top Regions per Sales\n",
    "\n",
    "top_regions= df.groupby('region')['sales_amount'].sum().sort_values(ascending=False)\n",
    "\n",
    "top_regions"
   ]
  },
  {
   "cell_type": "code",
   "execution_count": 13,
   "id": "2479fd90-c53f-4e6d-b97d-66f2062f0a90",
   "metadata": {},
   "outputs": [
    {
     "data": {
      "text/plain": [
       "product_category\n",
       "Electronics    9217.31\n",
       "Clothing       8370.65\n",
       "Home           8306.59\n",
       "Books          5295.19\n",
       "Name: sales_amount, dtype: float64"
      ]
     },
     "execution_count": 13,
     "metadata": {},
     "output_type": "execute_result"
    }
   ],
   "source": [
    "# Top Categories by Sales\n",
    "top_categories=  df.groupby('product_category')['sales_amount'].sum().sort_values(ascending=False)\n",
    "top_categories"
   ]
  },
  {
   "cell_type": "code",
   "execution_count": 14,
   "id": "da731d92-c532-4d40-b2e3-03a8c4a887af",
   "metadata": {},
   "outputs": [
    {
     "data": {
      "text/plain": [
       "month\n",
       "May    6298.95\n",
       "Mar    5301.25\n",
       "Jan    5247.66\n",
       "Name: sales_amount, dtype: float64"
      ]
     },
     "execution_count": 14,
     "metadata": {},
     "output_type": "execute_result"
    }
   ],
   "source": [
    "# Top 3 categories by average sales\n",
    "\n",
    "top_3_months_by_sales= df.groupby('month')['sales_amount'].sum().nlargest(3)\n",
    "\n",
    "top_3_months_by_sales"
   ]
  },
  {
   "cell_type": "markdown",
   "id": "ec9e25b1-83cf-4249-a201-c0c402d20331",
   "metadata": {},
   "source": [
    "#### Practice Exercises - Part A"
   ]
  },
  {
   "cell_type": "code",
   "execution_count": null,
   "id": "c33d5a55-2fff-4dca-8704-4382cddffc80",
   "metadata": {},
   "outputs": [],
   "source": []
  },
  {
   "cell_type": "markdown",
   "id": "c2d251b7-c0b5-4ca5-b2eb-bbc1428f3874",
   "metadata": {},
   "source": [
    "## 📈 Part B: Visualizing Data with Matplotlib & Seaborn"
   ]
  },
  {
   "cell_type": "markdown",
   "id": "625552f3-0ea2-4ba5-a2f0-229c1c3e3539",
   "metadata": {},
   "source": [
    "### Line Plots: Perfect for Trends Over Time"
   ]
  },
  {
   "cell_type": "code",
   "execution_count": 15,
   "id": "20f3f5ea-5f1b-4619-a217-95f1843c4720",
   "metadata": {},
   "outputs": [
    {
     "data": {
      "image/png": "[encoded data removed]",
      "text/plain": [
       "<Figure size 600x300 with 1 Axes>"
      ]
     },
     "metadata": {},
     "output_type": "display_data"
    }
   ],
   "source": [
    "sales_per_month= df.groupby('month')['sales_amount'].sum()\n",
    "\n",
    "#Chart Size\n",
    "plt.figure(figsize= (6,3))\n",
    "\n",
    "plt.plot(sales_per_month.index,sales_per_month.values)\n",
    "plt.title(\"Total Sales Per Month\")  # Add chart title\n",
    "plt.xlabel(\"Months\")  # Add X Axis label\n",
    "plt.ylabel(\"Sales\")\n",
    "plt.show() # show the chart"
   ]
  },
  {
   "cell_type": "code",
   "execution_count": 18,
   "id": "326d6d37-badb-4dde-9293-1748f0efa7c2",
   "metadata": {},
   "outputs": [
    {
     "data": {
      "image/png": "[encoded data removed]",
      "text/plain": [
       "<Figure size 600x300 with 1 Axes>"
      ]
     },
     "metadata": {},
     "output_type": "display_data"
    }
   ],
   "source": [
    "sales_per_month= df.groupby('month')['sales_amount'].sum()\n",
    "\n",
    "#Chart Size\n",
    "plt.figure(figsize= (6,3))\n",
    "\n",
    "plt.plot(sales_per_month.index,sales_per_month.values,marker='o',color='red')\n",
    "plt.title(\"Total Sales Per Month\")  # Add chart title\n",
    "plt.xlabel(\"Months\")  # Add X Axis label\n",
    "plt.ylabel(\"Sales\")\n",
    "plt.show() # show the chart"
   ]
  },
  {
   "cell_type": "markdown",
   "id": "7c4ab273-e353-4031-85ca-bcd6f8971360",
   "metadata": {},
   "source": [
    "### Bar Charts: Compare Categories"
   ]
  },
  {
   "cell_type": "code",
   "execution_count": 20,
   "id": "3d291ff1-27e9-41c0-9221-802d5564f14f",
   "metadata": {},
   "outputs": [
    {
     "data": {
      "image/png": "[encoded data removed]",
      "text/plain": [
       "<Figure size 600x200 with 1 Axes>"
      ]
     },
     "metadata": {},
     "output_type": "display_data"
    }
   ],
   "source": [
    "sales_per_region= df.groupby('region')['sales_amount'].sum().sort_values(ascending=True)\n",
    "\n",
    "plt.figure(figsize=(6,2))\n",
    "\n",
    "plt.barh(sales_per_region.index,sales_per_region.values,color=['#4285f4','#ea4335','#fbbc05','#34a853'])\n",
    "plt.title(\"Sales Per Region\")\n",
    "plt.xlabel('Total Sales($)')\n",
    "plt.ylabel('Region')\n",
    "plt.show()"
   ]
  },
  {
   "cell_type": "markdown",
   "id": "d97d9a22-bf7c-4e54-a095-ed0fb81414c8",
   "metadata": {},
   "source": [
    "### Pie Charts"
   ]
  },
  {
   "cell_type": "code",
   "execution_count": 47,
   "id": "bb0e10e7-e04d-4015-8741-20c9b58ec93b",
   "metadata": {},
   "outputs": [
    {
     "data": {
      "image/png": "[encoded data removed]",
      "text/plain": [
       "<Figure size 400x400 with 1 Axes>"
      ]
     },
     "metadata": {},
     "output_type": "display_data"
    }
   ],
   "source": [
    "plt.figure(figsize=(4,4))    \n",
    "plt.pie(\n",
    "    sales_per_region,\n",
    "    labels= sales_per_region.index, \n",
    "    autopct='%1.1f%%',\n",
    "    colors=['#4285f4','#ea4335','#fbbc05','#34a853'],\n",
    "    wedgeprops={'width': 0.5}\n",
    ")\n",
    "\n",
    "plt.title(\"Sales per Region\")\n",
    "plt.show()"
   ]
  },
  {
   "cell_type": "code",
   "execution_count": 26,
   "id": "a02df428-0ec8-4cca-a45d-be7c64fe3797",
   "metadata": {},
   "outputs": [
    {
     "data": {
      "text/html": [
       "<div>\n",
       "<style scoped>\n",
       "    .dataframe tbody tr th:only-of-type {\n",
       "        vertical-align: middle;\n",
       "    }\n",
       "\n",
       "    .dataframe tbody tr th {\n",
       "        vertical-align: top;\n",
       "    }\n",
       "\n",
       "    .dataframe thead th {\n",
       "        text-align: right;\n",
       "    }\n",
       "</style>\n",
       "<table border=\"1\" class=\"dataframe\">\n",
       "  <thead>\n",
       "    <tr style=\"text-align: right;\">\n",
       "      <th></th>\n",
       "      <th>region</th>\n",
       "      <th>product_category</th>\n",
       "      <th>sales_amount</th>\n",
       "      <th>quantity_sold</th>\n",
       "      <th>month</th>\n",
       "    </tr>\n",
       "  </thead>\n",
       "  <tbody>\n",
       "    <tr>\n",
       "      <th>0</th>\n",
       "      <td>East</td>\n",
       "      <td>Clothing</td>\n",
       "      <td>105.33</td>\n",
       "      <td>1</td>\n",
       "      <td>May</td>\n",
       "    </tr>\n",
       "    <tr>\n",
       "      <th>1</th>\n",
       "      <td>West</td>\n",
       "      <td>Home</td>\n",
       "      <td>59.94</td>\n",
       "      <td>9</td>\n",
       "      <td>Feb</td>\n",
       "    </tr>\n",
       "    <tr>\n",
       "      <th>2</th>\n",
       "      <td>North</td>\n",
       "      <td>Electronics</td>\n",
       "      <td>111.41</td>\n",
       "      <td>1</td>\n",
       "      <td>Mar</td>\n",
       "    </tr>\n",
       "    <tr>\n",
       "      <th>3</th>\n",
       "      <td>East</td>\n",
       "      <td>Electronics</td>\n",
       "      <td>118.32</td>\n",
       "      <td>3</td>\n",
       "      <td>Mar</td>\n",
       "    </tr>\n",
       "    <tr>\n",
       "      <th>4</th>\n",
       "      <td>East</td>\n",
       "      <td>Electronics</td>\n",
       "      <td>116.79</td>\n",
       "      <td>8</td>\n",
       "      <td>Apr</td>\n",
       "    </tr>\n",
       "  </tbody>\n",
       "</table>\n",
       "</div>"
      ],
      "text/plain": [
       "  region product_category  sales_amount  quantity_sold month\n",
       "0   East         Clothing        105.33              1   May\n",
       "1   West             Home         59.94              9   Feb\n",
       "2  North      Electronics        111.41              1   Mar\n",
       "3   East      Electronics        118.32              3   Mar\n",
       "4   East      Electronics        116.79              8   Apr"
      ]
     },
     "execution_count": 26,
     "metadata": {},
     "output_type": "execute_result"
    }
   ],
   "source": [
    "df.head()"
   ]
  },
  {
   "cell_type": "code",
   "execution_count": 38,
   "id": "d35a056c-d83d-4cec-8a49-b5ebddbe723d",
   "metadata": {},
   "outputs": [
    {
     "name": "stderr",
     "output_type": "stream",
     "text": [
      "C:\\Users\\USER\\AppData\\Local\\Temp\\ipykernel_1924\\1295202975.py:1: FutureWarning: \n",
      "\n",
      "Passing `palette` without assigning `hue` is deprecated and will be removed in v0.14.0. Assign the `x` variable to `hue` and set `legend=False` for the same effect.\n",
      "\n",
      "  sns.countplot(data=df, x='product_category',palette='viridis')\n"
     ]
    },
    {
     "data": {
      "image/png": "[encoded data removed]",
      "text/plain": [
       "<Figure size 640x480 with 1 Axes>"
      ]
     },
     "metadata": {},
     "output_type": "display_data"
    }
   ],
   "source": [
    "plt.figure(figsize=(8,4))\n",
    "sns.countplot(data=df, x='product_category',palette='viridis')\n",
    "plt.ylabel(\"Number of Transactions\")\n",
    "plt.show()"
   ]
  },
  {
   "cell_type": "code",
   "execution_count": 39,
   "id": "43573a0c-4926-4924-8ba8-43cbc4f2c92d",
   "metadata": {},
   "outputs": [
    {
     "name": "stderr",
     "output_type": "stream",
     "text": [
      "C:\\Users\\USER\\AppData\\Local\\Temp\\ipykernel_1924\\1771822314.py:3: FutureWarning: \n",
      "\n",
      "Passing `palette` without assigning `hue` is deprecated and will be removed in v0.14.0. Assign the `x` variable to `hue` and set `legend=False` for the same effect.\n",
      "\n",
      "  sns.boxplot(data=df, x='region', y='sales_amount', palette='Set2')\n"
     ]
    },
    {
     "data": {
      "image/png": "[encoded data removed]",
      "text/plain": [
       "<Figure size 640x480 with 1 Axes>"
      ]
     },
     "metadata": {},
     "output_type": "display_data"
    }
   ],
   "source": [
    "#Box Plot\n",
    "\n",
    "sns.boxplot(data=df, x='region', y='sales_amount', palette='Set2')\n",
    "plt.show()"
   ]
  },
  {
   "cell_type": "markdown",
   "id": "010b876e-f231-4e6e-93d6-ea0e3bc91367",
   "metadata": {},
   "source": [
    "### Histograms: Show Data Distribution"
   ]
  },
  {
   "cell_type": "code",
   "execution_count": 43,
   "id": "0d4bd56e-ab5e-4d9a-b12d-f196da8969e4",
   "metadata": {},
   "outputs": [
    {
     "data": {
      "image/png": "[encoded data removed]",
      "text/plain": [
       "<Figure size 600x300 with 1 Axes>"
      ]
     },
     "metadata": {},
     "output_type": "display_data"
    }
   ],
   "source": [
    "plt.figure(figsize=(6,3))\n",
    "sns.histplot(data=df, x='sales_amount', bins=20)\n",
    "\n",
    "plt.show()"
   ]
  },
  {
   "cell_type": "code",
   "execution_count": null,
   "id": "d1e914c0-3c03-4f61-ba07-d7526563dab7",
   "metadata": {},
   "outputs": [],
   "source": []
  }
 ],
 "metadata": {
  "kernelspec": {
   "display_name": "Python 3 (ipykernel)",
   "language": "python",
   "name": "python3"
  },
  "language_info": {
   "codemirror_mode": {
    "name": "ipython",
    "version": 3
   },
   "file_extension": ".py",
   "mimetype": "text/x-python",
   "name": "python",
   "nbconvert_exporter": "python",
   "pygments_lexer": "ipython3",
   "version": "3.13.5"
  }
 },
 "nbformat": 4,
 "nbformat_minor": 5
}
