{
 "cells": [
  {
   "cell_type": "markdown",
   "id": "7a6f66d0-c1ba-4bc1-87d1-0a8d4c5e2506",
   "metadata": {},
   "source": [
    "# Automation and Organization - Loops, Lists, and Functions"
   ]
  },
  {
   "cell_type": "markdown",
   "id": "4c1bd171-e510-4b43-a7f0-dc9e40775b73",
   "metadata": {},
   "source": [
    "## Lists"
   ]
  },
  {
   "cell_type": "code",
   "execution_count": 2,
   "id": "41913307-33ae-4721-9b5c-c778ac1c609a",
   "metadata": {},
   "outputs": [
    {
     "name": "stdout",
     "output_type": "stream",
     "text": [
      "[]\n"
     ]
    }
   ],
   "source": [
    "fruits=[] # empty list\n",
    "\n",
    "print(fruits)"
   ]
  },
  {
   "cell_type": "code",
   "execution_count": 10,
   "id": "98068a79-c6ce-4f78-98ab-9d682de9bdb8",
   "metadata": {},
   "outputs": [
    {
     "name": "stdout",
     "output_type": "stream",
     "text": [
      "['Apple', 'Oranges', 'Mangoes', 'Pineapples', 'Grapes']\n",
      "Apple\n",
      "Pineapples\n",
      "Grapes\n"
     ]
    }
   ],
   "source": [
    "fruits=['Apple', 'Oranges', 'Mangoes', 'Pineapples', 'Grapes']\n",
    "\n",
    "print(fruits)\n",
    "\n",
    "## Positioning (location of the elements)\n",
    "print(fruits[0]) # Prints the first element in the list\n",
    "print(fruits[3])\n",
    "print(fruits[-1]) # Last element of the list"
   ]
  },
  {
   "cell_type": "code",
   "execution_count": 4,
   "id": "fdc2e120-67a5-4313-bc6d-d45552d631b4",
   "metadata": {},
   "outputs": [
    {
     "name": "stdout",
     "output_type": "stream",
     "text": [
      "[1, 4, 5, 34, 76, 87, 78, 5]\n"
     ]
    }
   ],
   "source": [
    "numbers= [1,4,5,34,76,87,78,5]\n",
    "print(numbers)"
   ]
  },
  {
   "cell_type": "code",
   "execution_count": 5,
   "id": "b9b1da49-1189-40a8-ad31-75f68df62bab",
   "metadata": {},
   "outputs": [
    {
     "name": "stdout",
     "output_type": "stream",
     "text": [
      "[12, 34, 'Nairobi', 'Juja', 'Juba', 67, True]\n"
     ]
    }
   ],
   "source": [
    "combined_list= [12,34,'Nairobi', 'Juja', 'Juba',67, True]\n",
    "print(combined_list)"
   ]
  },
  {
   "cell_type": "code",
   "execution_count": 36,
   "id": "71ab9191-ad34-4319-a654-70eba13bcb92",
   "metadata": {},
   "outputs": [
    {
     "name": "stdout",
     "output_type": "stream",
     "text": [
      "['watch', 'shoes', 't-shirt']\n",
      "['shoes', 't-shirt', 'boxes', 'cap', 'unga', 'cooking oil']\n"
     ]
    }
   ],
   "source": [
    "# Create a shopping list \"shopping_cart\" and add 6 items\n",
    "\n",
    "shopping_list= ['watch','shoes','t-shirt','boxes','cap','unga','cooking oil']\n",
    "\n",
    "#print first 3 items\n",
    "print(shopping_list[0:3])\n",
    "\n",
    "# print from the second item\n",
    "print(shopping_list[1:])"
   ]
  },
  {
   "cell_type": "markdown",
   "id": "1bf54e31-d500-4c3a-8d6a-d31b96a24cce",
   "metadata": {},
   "source": [
    "#### Adding elements to the fruit list"
   ]
  },
  {
   "cell_type": "code",
   "execution_count": 24,
   "id": "672ef149-cd1a-4fbb-a4f5-567c8b02dd42",
   "metadata": {},
   "outputs": [
    {
     "name": "stdout",
     "output_type": "stream",
     "text": [
      "['Kenya', 'Uganda', 'Congo']\n",
      "['Kenya', 'Uganda', 'Congo', 'South Sudan']\n"
     ]
    }
   ],
   "source": [
    "# Appending ==> Adding items to the end\n",
    "countries=['Kenya', 'Uganda', 'Congo']\n",
    "print(countries)\n",
    "countries.append('South Sudan')\n",
    "print(countries)"
   ]
  },
  {
   "cell_type": "code",
   "execution_count": 25,
   "id": "03171519-9494-48a5-86a9-82e744619716",
   "metadata": {},
   "outputs": [
    {
     "name": "stdout",
     "output_type": "stream",
     "text": [
      "['Kenya', 'Tanzania', 'Uganda', 'Congo', 'South Sudan']\n"
     ]
    }
   ],
   "source": [
    "# Inserting items at specific positions\n",
    "\n",
    "# Insert Tanzania between Kenya and Uganda\n",
    "countries.insert(1,'Tanzania') # Inserts Tanzania at position [1]\n",
    "print(countries)"
   ]
  },
  {
   "cell_type": "markdown",
   "id": "8677b955-ebd8-4915-9505-ab816f155db5",
   "metadata": {},
   "source": [
    "#### Removing items from a list"
   ]
  },
  {
   "cell_type": "code",
   "execution_count": 26,
   "id": "be7e0a9b-4e83-4e6e-a880-b4a48fd2f5d5",
   "metadata": {},
   "outputs": [
    {
     "name": "stdout",
     "output_type": "stream",
     "text": [
      "['Kenya', 'Tanzania', 'Uganda', 'South Sudan']\n"
     ]
    }
   ],
   "source": [
    "# Remove by name\n",
    "countries.remove('Congo')\n",
    "print(countries)"
   ]
  },
  {
   "cell_type": "code",
   "execution_count": 30,
   "id": "f1ce91cf-7da5-4d8c-a43e-51ae44670b86",
   "metadata": {},
   "outputs": [
    {
     "name": "stdout",
     "output_type": "stream",
     "text": [
      "['watch', 'shoes', 't-shirt', 'boxes', 'cap', 'unga']\n",
      "['watch', 'shoes', 't-shirt', 'boxes', 'cap']\n"
     ]
    }
   ],
   "source": [
    "# Remove the last item on the list\n",
    "print(shopping_list)\n",
    "shopping_list.pop()\n",
    "print(shopping_list)"
   ]
  },
  {
   "cell_type": "code",
   "execution_count": 32,
   "id": "6061d77e-debf-4201-89ce-08c01a5598d5",
   "metadata": {},
   "outputs": [
    {
     "name": "stdout",
     "output_type": "stream",
     "text": [
      "watch\n",
      "shoes\n",
      "boxes\n",
      "cap\n"
     ]
    }
   ],
   "source": [
    "print(shopping_list[0])\n",
    "print(shopping_list[1])\n",
    "print(shopping_list[3])\n",
    "print(shopping_list[4])\n"
   ]
  },
  {
   "cell_type": "markdown",
   "id": "f07f5e4c-fe64-455c-902a-7a75932bd17f",
   "metadata": {},
   "source": [
    "## Loops\n",
    "A loop is like giving your computer instructions to repeat something over and over.\n"
   ]
  },
  {
   "cell_type": "code",
   "execution_count": 37,
   "id": "63bf9c40-c65f-479e-b57c-aae68e57f54f",
   "metadata": {},
   "outputs": [
    {
     "data": {
      "text/plain": [
       "['watch', 'shoes', 't-shirt', 'boxes', 'cap', 'unga', 'cooking oil']"
      ]
     },
     "execution_count": 37,
     "metadata": {},
     "output_type": "execute_result"
    }
   ],
   "source": [
    "shopping_list"
   ]
  },
  {
   "cell_type": "code",
   "execution_count": 39,
   "id": "dcb56748-12e3-4262-ace7-791d5699f594",
   "metadata": {},
   "outputs": [
    {
     "name": "stdout",
     "output_type": "stream",
     "text": [
      "watch\n",
      "shoes\n",
      "t-shirt\n",
      "boxes\n",
      "cap\n",
      "unga\n",
      "cooking oil\n"
     ]
    }
   ],
   "source": [
    "for item in shopping_list:\n",
    "    print(item)"
   ]
  },
  {
   "cell_type": "code",
   "execution_count": 40,
   "id": "c520ad87-c4c8-4391-8129-17e64ac5a9f3",
   "metadata": {},
   "outputs": [
    {
     "name": "stdout",
     "output_type": "stream",
     "text": [
      "Kenya\n",
      "Tanzania\n",
      "Uganda\n",
      "South Sudan\n"
     ]
    }
   ],
   "source": [
    "for country in countries:\n",
    "    print(country)"
   ]
  },
  {
   "cell_type": "code",
   "execution_count": 51,
   "id": "46c2d9ad-8c8e-4966-aeb3-3773ce2b35af",
   "metadata": {},
   "outputs": [
    {
     "name": "stdout",
     "output_type": "stream",
     "text": [
      "0\n",
      "5\n",
      "10\n",
      "15\n",
      "20\n",
      "25\n",
      "30\n",
      "35\n",
      "40\n",
      "45\n",
      "50\n"
     ]
    }
   ],
   "source": [
    "for i in range(0,51,5): # start, end, increment value\n",
    "        print(i)"
   ]
  },
  {
   "cell_type": "markdown",
   "id": "8552fdb6-41a7-4640-a049-009d1e5b4d83",
   "metadata": {},
   "source": [
    "### What Are Dictionaries?\n",
    "Imagine a real dictionary where you look up a word (like \"apple\") to find its definition. In Python, a\n",
    "dictionary works similarly - you look up a **\"key\"** (like a word) to find its **\"value\"** (like the definition).\n"
   ]
  },
  {
   "cell_type": "code",
   "execution_count": 54,
   "id": "6625c22a-6377-4fc8-b961-4bcf9327ac81",
   "metadata": {},
   "outputs": [
    {
     "name": "stdout",
     "output_type": "stream",
     "text": [
      "{'Name': 'Alice Muendo', 'Age': 25, 'Email': 'alicemuendo@gmail.com', 'Course': 'Data Analytics'}\n"
     ]
    }
   ],
   "source": [
    "student={\n",
    "    \"Name\": \"Alice Muendo\",\n",
    "    \"Age\":25,\n",
    "    \"Email\": \"alicemuendo@gmail.com\",\n",
    "    \"Course\": \"Data Analytics\"\n",
    "}\n",
    "\n",
    "\n",
    "print(student)"
   ]
  },
  {
   "cell_type": "code",
   "execution_count": 58,
   "id": "847f7319-51ac-4aa2-b591-b6acfa17d6a5",
   "metadata": {},
   "outputs": [
    {
     "name": "stdout",
     "output_type": "stream",
     "text": [
      "Alice Muendo\n"
     ]
    }
   ],
   "source": [
    "# print student name\n",
    "print(student[\"Name\"])"
   ]
  },
  {
   "cell_type": "code",
   "execution_count": 59,
   "id": "562f68cd-b8df-497a-a2e8-41fc3345ec00",
   "metadata": {},
   "outputs": [
    {
     "name": "stdout",
     "output_type": "stream",
     "text": [
      "Data Analytics\n"
     ]
    }
   ],
   "source": [
    "# print student's course\n",
    "print(student[\"Course\"])"
   ]
  },
  {
   "cell_type": "code",
   "execution_count": 78,
   "id": "8047de84-9022-4303-89f3-55498b4fbfff",
   "metadata": {},
   "outputs": [
    {
     "name": "stdout",
     "output_type": "stream",
     "text": [
      "Alice\n",
      "Bob\n",
      "Carol\n",
      "David\n",
      "Eva\n"
     ]
    }
   ],
   "source": [
    "# Working with dictionaries\n",
    "student_grades = {\n",
    "    \"Alice\": 92,\n",
    "    \"Bob\": 87,\n",
    "    \"Carol\": 95,\n",
    "    \"David\": 78,\n",
    "    \"Eva\": 98\n",
    "}\n",
    "\n",
    "for key in student_grades:\n",
    "    print(key) # prints the Keys (student names"
   ]
  },
  {
   "cell_type": "code",
   "execution_count": 79,
   "id": "70296fd6-4e08-48cf-a19c-cb3ffce1f8b7",
   "metadata": {},
   "outputs": [
    {
     "name": "stdout",
     "output_type": "stream",
     "text": [
      "Alice : 92\n",
      "Bob : 87\n",
      "Carol : 95\n",
      "David : 78\n",
      "Eva : 98\n"
     ]
    }
   ],
   "source": [
    "for key in student_grades:\n",
    "    print(key,\":\",student_grades[key])"
   ]
  },
  {
   "cell_type": "code",
   "execution_count": 80,
   "id": "94c2388a-9883-42a6-992a-b84cabb0b1c1",
   "metadata": {},
   "outputs": [
    {
     "name": "stdout",
     "output_type": "stream",
     "text": [
      "Alice : 92\n",
      "Alice : 92\n",
      "Carol : 95\n",
      "Carol : 95\n",
      "Eva : 98\n"
     ]
    }
   ],
   "source": [
    "# Getting the highest student grade\n",
    "\n",
    "highest_grade=0\n",
    "best_student=\"\"\n",
    "\n",
    "for student in student_grades:\n",
    "    if student_grades[student]> highest_grade:\n",
    "        highest_grade= student_grades[student]\n",
    "        best_student=student\n",
    "    print(best_student,\":\",highest_grade)"
   ]
  },
  {
   "cell_type": "markdown",
   "id": "f834f229-e569-4430-9279-4871d56c250c",
   "metadata": {},
   "source": [
    "### What Are Functions? (Creating Your Own Tools)\n",
    "Think of a function like a recipe or a tool. Once you write the recipe, you can use it over and over without\n",
    "rewriting all the steps.\n"
   ]
  },
  {
   "cell_type": "code",
   "execution_count": 85,
   "id": "fe4a3dea-2c9d-4a5a-8ba9-1532d8e4bc54",
   "metadata": {},
   "outputs": [],
   "source": [
    "def greet(name):\n",
    "    print(\"Hello,\", name)"
   ]
  },
  {
   "cell_type": "code",
   "execution_count": 86,
   "id": "10d4af8b-0e5c-4819-abdf-cc10ca4697ab",
   "metadata": {},
   "outputs": [
    {
     "name": "stdout",
     "output_type": "stream",
     "text": [
      "Hello, Mary\n"
     ]
    }
   ],
   "source": [
    "greet(\"Mary\") # Calling the function ( using the function)"
   ]
  },
  {
   "cell_type": "code",
   "execution_count": 87,
   "id": "7b4192a6-627c-40c9-aeaf-55ca7c1703e8",
   "metadata": {},
   "outputs": [
    {
     "name": "stdout",
     "output_type": "stream",
     "text": [
      "Hello, Joseph\n"
     ]
    }
   ],
   "source": [
    "greet(\"Joseph\")"
   ]
  },
  {
   "cell_type": "code",
   "execution_count": 88,
   "id": "ad048639-2f17-4349-86c4-834d079968ec",
   "metadata": {},
   "outputs": [
    {
     "name": "stdout",
     "output_type": "stream",
     "text": [
      "Hello, Daniel\n"
     ]
    }
   ],
   "source": [
    "greet(\"Daniel\")"
   ]
  },
  {
   "cell_type": "code",
   "execution_count": 90,
   "id": "e9bc50f7-7d1b-48b4-ba9d-aaf9853da74f",
   "metadata": {},
   "outputs": [
    {
     "data": {
      "text/plain": [
       "113"
      ]
     },
     "execution_count": 90,
     "metadata": {},
     "output_type": "execute_result"
    }
   ],
   "source": [
    "def add(a,b):\n",
    "    return  a+b # Share the result with the user\n",
    "\n",
    "add(46,67)"
   ]
  },
  {
   "cell_type": "code",
   "execution_count": 91,
   "id": "c1590c4c-6136-45c2-bac5-be5c0920f764",
   "metadata": {},
   "outputs": [
    {
     "data": {
      "text/plain": [
       "630539596666467398"
      ]
     },
     "execution_count": 91,
     "metadata": {},
     "output_type": "execute_result"
    }
   ],
   "source": [
    "add(584689846897487649,45849749768979749)"
   ]
  },
  {
   "cell_type": "code",
   "execution_count": 99,
   "id": "0b8f14de-8bcf-48a2-ab2a-51a18195f940",
   "metadata": {},
   "outputs": [],
   "source": [
    "# Analyze student Marks using functions\n",
    "\n",
    "def analyze_marks(score):\n",
    "    if score >=90:\n",
    "        print(\"Grade: A\")\n",
    "        print(\"Excelent work!\")\n",
    "    elif score >=80:\n",
    "        print(\"Grade: B\")\n",
    "        print(\"Good Work !\")\n",
    "    elif score >=70:\n",
    "        print(\"Grade: C\")\n",
    "        print(\"Satifactory!\")\n",
    "    elif score >=60:\n",
    "        print(\"Grade: D\")\n",
    "        print(\"Needs Improvement!\")\n",
    "    else:\n",
    "        print(\"Grade: F\")\n",
    "        print(\"See the teacher!\")"
   ]
  },
  {
   "cell_type": "code",
   "execution_count": 100,
   "id": "120fc1a7-88e0-4dec-a48e-981cc195feab",
   "metadata": {},
   "outputs": [
    {
     "name": "stdout",
     "output_type": "stream",
     "text": [
      "Grade: D\n",
      "Needs Improvement!\n"
     ]
    }
   ],
   "source": [
    "analyze_marks(66)"
   ]
  },
  {
   "cell_type": "code",
   "execution_count": 95,
   "id": "0a1098eb-a24e-4657-84bf-3a99a56e84de",
   "metadata": {},
   "outputs": [
    {
     "name": "stdout",
     "output_type": "stream",
     "text": [
      "Grade: B\n",
      "Good Work !\n"
     ]
    }
   ],
   "source": [
    "analyze_marks(85)"
   ]
  },
  {
   "cell_type": "code",
   "execution_count": 96,
   "id": "e9ff03ec-9f0c-4498-ad78-a2550ea8c5bf",
   "metadata": {},
   "outputs": [
    {
     "name": "stdout",
     "output_type": "stream",
     "text": [
      "Grade: F\n",
      "See the teacher!\n"
     ]
    }
   ],
   "source": [
    "analyze_marks(25)"
   ]
  },
  {
   "cell_type": "code",
   "execution_count": 98,
   "id": "604b68fa-4aab-40f0-bcdc-b6dd22e06912",
   "metadata": {},
   "outputs": [
    {
     "name": "stdout",
     "output_type": "stream",
     "text": [
      "Grade: C\n",
      "Satifactory!\n"
     ]
    }
   ],
   "source": [
    "analyze_marks(75)"
   ]
  },
  {
   "cell_type": "code",
   "execution_count": null,
   "id": "7feda60a-3b63-45d5-8989-ebd40833ffc5",
   "metadata": {},
   "outputs": [],
   "source": []
  }
 ],
 "metadata": {
  "kernelspec": {
   "display_name": "Python 3 (ipykernel)",
   "language": "python",
   "name": "python3"
  },
  "language_info": {
   "codemirror_mode": {
    "name": "ipython",
    "version": 3
   },
   "file_extension": ".py",
   "mimetype": "text/x-python",
   "name": "python",
   "nbconvert_exporter": "python",
   "pygments_lexer": "ipython3",
   "version": "3.13.5"
  }
 },
 "nbformat": 4,
 "nbformat_minor": 5
}
