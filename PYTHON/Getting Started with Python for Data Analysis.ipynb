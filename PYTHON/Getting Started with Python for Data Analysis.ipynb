{
 "cells": [
  {
   "cell_type": "markdown",
   "id": "a9f8f296-429b-4e91-8d29-86a97c6d22d2",
   "metadata": {},
   "source": [
    "## Getting Started with Python for Data Analysis"
   ]
  },
  {
   "cell_type": "markdown",
   "id": "a0cbe17f-3d3e-448c-bc13-d517d54aefeb",
   "metadata": {},
   "source": [
    "#### Real-World Use Case: Small Supermarket Analysis"
   ]
  },
  {
   "cell_type": "code",
   "execution_count": 2,
   "id": "e6051642-e33a-4a71-b511-ae33d558f4c0",
   "metadata": {},
   "outputs": [
    {
     "name": "stdout",
     "output_type": "stream",
     "text": [
      "Libraries imported successfully!!\n"
     ]
    }
   ],
   "source": [
    "# Step 1 : Importing Libraries\n",
    "\n",
    "import pandas as pd   # Will load and organize the sales data\n",
    "import numpy as np  # Will calculate averages, totals, and trends\n",
    "import matplotlib.pyplot as plt  # Will create charts showing sales over time\n",
    "import seaborn as sns    # Will make beautiful visualizations of customer patterns\n",
    "\n",
    "print(\"Libraries imported successfully!!\")"
   ]
  },
  {
   "cell_type": "markdown",
   "id": "6ddb7b7d-9684-445d-b857-d3aa9a60084c",
   "metadata": {},
   "source": [
    "##### Sample Example"
   ]
  },
  {
   "cell_type": "code",
   "execution_count": 4,
   "id": "1142065a-0fe1-4669-a4de-769c40f465ae",
   "metadata": {},
   "outputs": [
    {
     "name": "stdout",
     "output_type": "stream",
     "text": [
      "🚀 Setting up our data analysis environment...\n",
      "✅ All libraries imported successfully\n"
     ]
    }
   ],
   "source": [
    "# === STEP 1: Import all necessary libraries ===\n",
    "print(\"🚀 Setting up our data analysis environment...\")\n",
    "\n",
    "import pandas as pd\n",
    "import numpy as np\n",
    "import matplotlib.pyplot as plt\n",
    "import seaborn as sns\n",
    "\n",
    "print(\"✅ All libraries imported successfully\")"
   ]
  },
  {
   "cell_type": "code",
   "execution_count": 8,
   "id": "6e832924-886c-4e78-a014-da6a95358b6d",
   "metadata": {},
   "outputs": [
    {
     "name": "stdout",
     "output_type": "stream",
     "text": [
      " Pandas version: 2.2.3\n",
      " Numpy version: 2.1.3\n",
      " Matplotlib and Seaborn are ready for visualization!\n"
     ]
    }
   ],
   "source": [
    "# === STEP 2: Test that everything works ===\n",
    "print(f\" Pandas version: {pd.__version__}\")\n",
    "print(f\" Numpy version: {np.__version__}\")\n",
    "print(\" Matplotlib and Seaborn are ready for visualization!\")"
   ]
  },
  {
   "cell_type": "code",
   "execution_count": 7,
   "id": "3a32d7de-1413-4e79-a208-be396bbed90b",
   "metadata": {},
   "outputs": [
    {
     "name": "stdout",
     "output_type": "stream",
     "text": [
      "\n",
      "Sample supermarket data:\n",
      "  Products  Sale  Profit\n",
      "0   Apples   150      45\n",
      "1  Mangoes   200      80\n",
      "2  Bananas   120      36\n",
      "3  Oranges   300      90\n",
      "4   Breads   250      75\n",
      "5     Milk   500     120\n",
      "Dataframe created successfully ready for analysis!!\n"
     ]
    }
   ],
   "source": [
    "# === STEP 3: Create a simple example ===\n",
    "# Let's create some sample data to prove everything works\n",
    "\n",
    "sample_data={\n",
    "    'Products':['Apples','Mangoes','Bananas','Oranges','Breads','Milk'],\n",
    "    'Sale':[150,200,120,300,250,500],\n",
    "    'Profit':[45,80,36,90,75,120]\n",
    "}\n",
    "\n",
    "df=pd.DataFrame(sample_data)\n",
    "\n",
    "print(\"\\nSample supermarket data:\")\n",
    "print(df)\n",
    "\n",
    "print(\"Dataframe created successfully ready for analysis!!\")"
   ]
  },
  {
   "cell_type": "code",
   "execution_count": null,
   "id": "cb95bde1-bdbb-4125-8a57-0a9e225cfbee",
   "metadata": {},
   "outputs": [],
   "source": []
  }
 ],
 "metadata": {
  "kernelspec": {
   "display_name": "Python 3 (ipykernel)",
   "language": "python",
   "name": "python3"
  },
  "language_info": {
   "codemirror_mode": {
    "name": "ipython",
    "version": 3
   },
   "file_extension": ".py",
   "mimetype": "text/x-python",
   "name": "python",
   "nbconvert_exporter": "python",
   "pygments_lexer": "ipython3",
   "version": "3.13.5"
  }
 },
 "nbformat": 4,
 "nbformat_minor": 5
}
