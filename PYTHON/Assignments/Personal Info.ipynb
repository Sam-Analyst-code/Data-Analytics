{
 "cells": [
  {
   "cell_type": "code",
   "execution_count": 2,
   "id": "c868a1e5-c8a3-4037-8635-6960753bab1d",
   "metadata": {},
   "outputs": [
    {
     "name": "stdout",
     "output_type": "stream",
     "text": [
      "=== Personal Information System ==\n"
     ]
    },
    {
     "name": "stdin",
     "output_type": "stream",
     "text": [
      "First name:  simon\n",
      "Last Name:  aron\n"
     ]
    }
   ],
   "source": [
    "print(\"=== Personal Information System ==\")\n",
    "fname= input(\"First name: \")\n",
    "lname= input(\"Last Name: \")\n"
   ]
  },
  {
   "cell_type": "code",
   "execution_count": null,
   "id": "f1845a00-4ff3-49dc-a96c-2b72f4ae8fa7",
   "metadata": {},
   "outputs": [],
   "source": []
  }
 ],
 "metadata": {
  "kernelspec": {
   "display_name": "Python 3 (ipykernel)",
   "language": "python",
   "name": "python3"
  },
  "language_info": {
   "codemirror_mode": {
    "name": "ipython",
    "version": 3
   },
   "file_extension": ".py",
   "mimetype": "text/x-python",
   "name": "python",
   "nbconvert_exporter": "python",
   "pygments_lexer": "ipython3",
   "version": "3.13.5"
  }
 },
 "nbformat": 4,
 "nbformat_minor": 5
}
