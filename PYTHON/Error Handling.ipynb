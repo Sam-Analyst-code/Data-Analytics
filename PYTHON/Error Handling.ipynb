{
 "cells": [
  {
   "cell_type": "markdown",
   "id": "a43bb3d2-2b97-4fa6-8136-fe9d304c4cf6",
   "metadata": {},
   "source": [
    "# Handling Errors in Python"
   ]
  },
  {
   "cell_type": "code",
   "execution_count": 2,
   "id": "c93ae20d-f244-45bc-9689-c73473ce6fa3",
   "metadata": {},
   "outputs": [
    {
     "name": "stdin",
     "output_type": "stream",
     "text": [
      "Enter their age:  twenty five\n"
     ]
    },
    {
     "ename": "ValueError",
     "evalue": "invalid literal for int() with base 10: 'twenty five'",
     "output_type": "error",
     "traceback": [
      "\u001b[1;31m---------------------------------------------------------------------------\u001b[0m",
      "\u001b[1;31mValueError\u001b[0m                                Traceback (most recent call last)",
      "Cell \u001b[1;32mIn[2], line 1\u001b[0m\n\u001b[1;32m----> 1\u001b[0m age\u001b[38;5;241m=\u001b[39m \u001b[38;5;28mint\u001b[39m(\u001b[38;5;28minput\u001b[39m(\u001b[38;5;124m\"\u001b[39m\u001b[38;5;124mEnter their age: \u001b[39m\u001b[38;5;124m\"\u001b[39m))\n\u001b[0;32m      2\u001b[0m \u001b[38;5;28mprint\u001b[39m(age)\n",
      "\u001b[1;31mValueError\u001b[0m: invalid literal for int() with base 10: 'twenty five'"
     ]
    }
   ],
   "source": [
    "age= int(input(\"Enter their age: \"))\n",
    "print(age)"
   ]
  },
  {
   "cell_type": "code",
   "execution_count": 3,
   "id": "3c25686b-af09-495c-88e3-656fa6d5a7d1",
   "metadata": {},
   "outputs": [
    {
     "ename": "ZeroDivisionError",
     "evalue": "division by zero",
     "output_type": "error",
     "traceback": [
      "\u001b[1;31m---------------------------------------------------------------------------\u001b[0m",
      "\u001b[1;31mZeroDivisionError\u001b[0m                         Traceback (most recent call last)",
      "Cell \u001b[1;32mIn[3], line 1\u001b[0m\n\u001b[1;32m----> 1\u001b[0m result\u001b[38;5;241m=\u001b[39m\u001b[38;5;241m10\u001b[39m\u001b[38;5;241m/\u001b[39m\u001b[38;5;241m0\u001b[39m\n\u001b[0;32m      2\u001b[0m \u001b[38;5;28mprint\u001b[39m(result)\n",
      "\u001b[1;31mZeroDivisionError\u001b[0m: division by zero"
     ]
    }
   ],
   "source": [
    "result=10/0\n",
    "print(result)"
   ]
  },
  {
   "cell_type": "code",
   "execution_count": 4,
   "id": "4e72d398-cebf-4f64-ae73-fa3f300ae539",
   "metadata": {},
   "outputs": [
    {
     "ename": "NameError",
     "evalue": "name 'full_name' is not defined",
     "output_type": "error",
     "traceback": [
      "\u001b[1;31m---------------------------------------------------------------------------\u001b[0m",
      "\u001b[1;31mNameError\u001b[0m                                 Traceback (most recent call last)",
      "Cell \u001b[1;32mIn[4], line 2\u001b[0m\n\u001b[0;32m      1\u001b[0m name\u001b[38;5;241m=\u001b[39m\u001b[38;5;124m\"\u001b[39m\u001b[38;5;124mSimon\u001b[39m\u001b[38;5;124m\"\u001b[39m\n\u001b[1;32m----> 2\u001b[0m \u001b[38;5;28mprint\u001b[39m(full_name)\n",
      "\u001b[1;31mNameError\u001b[0m: name 'full_name' is not defined"
     ]
    }
   ],
   "source": [
    "name=\"Simon\"\n",
    "print(full_name)"
   ]
  },
  {
   "cell_type": "markdown",
   "id": "b2b161c1-6325-4f3a-948d-84e015cb2e5e",
   "metadata": {},
   "source": [
    "### Handling Errors Gracefully"
   ]
  },
  {
   "cell_type": "code",
   "execution_count": 10,
   "id": "20023d73-fe88-4229-bee6-de118ed42863",
   "metadata": {},
   "outputs": [
    {
     "name": "stdin",
     "output_type": "stream",
     "text": [
      "Enter your age:  56\n"
     ]
    },
    {
     "name": "stdout",
     "output_type": "stream",
     "text": [
      "You are 56 years old\n"
     ]
    }
   ],
   "source": [
    "try:\n",
    "    age= input(\"Enter your age: \")\n",
    "    age=int(age)\n",
    "    print(\"You are\", age, \"years old\")\n",
    "    \n",
    "except ValueError:\n",
    "    print(\"That's not a valid number. Please enter digits only.\")"
   ]
  },
  {
   "cell_type": "code",
   "execution_count": 17,
   "id": "73f5053e-1af0-4e28-8e0c-94beffa4d51b",
   "metadata": {},
   "outputs": [],
   "source": [
    "def safe_division():\n",
    "    try:\n",
    "        num1= float(input(\"Enter the first number: \"))\n",
    "        num2= float(input(\"Enter the second number: \"))\n",
    "\n",
    "        result= num1 / num2\n",
    "        print(f\"{num1} / {num2} = {result} \")\n",
    "\n",
    "    except ValueError:\n",
    "        print(\"Please enter valid numbers only!\")\n",
    "\n",
    "    except ZeroDivisionError:\n",
    "        print(\"Cannot divide by 0\")\n",
    "        \n",
    "    except e:\n",
    "        print(\"Error\",e)\n",
    "        "
   ]
  },
  {
   "cell_type": "code",
   "execution_count": 19,
   "id": "67ccdca2-2f2d-4a71-ae20-75cf18c77ea0",
   "metadata": {},
   "outputs": [
    {
     "name": "stdin",
     "output_type": "stream",
     "text": [
      "Enter the first number:  0\n",
      "Enter the second number:  20\n"
     ]
    },
    {
     "name": "stdout",
     "output_type": "stream",
     "text": [
      "0.0 / 20.0 = 0.0 \n"
     ]
    }
   ],
   "source": [
    "safe_division()"
   ]
  },
  {
   "cell_type": "code",
   "execution_count": null,
   "id": "0c4351b0-f61f-4de0-b35f-79cc6ff0433c",
   "metadata": {},
   "outputs": [],
   "source": []
  },
  {
   "cell_type": "code",
   "execution_count": 28,
   "id": "16b156ee-79b7-4f99-9100-b608073aba08",
   "metadata": {},
   "outputs": [],
   "source": [
    "# Real-World Error Handling Example\n",
    "\n",
    "def get_student_grade():\n",
    "    while True:\n",
    "        try:\n",
    "            name=input(\"Students Name: \")\n",
    "\n",
    "            if name.strip() ==\"\":\n",
    "                print(\"Please enter a valid name\")\n",
    "                continue\n",
    "\n",
    "            score= int(input(\"Enter students score(0-100)\"))\n",
    "            if score < 0 or score >100:\n",
    "                print(\"The scores must be between 0 and 100\")\n",
    "                continue\n",
    "            return name, score\n",
    "            \n",
    "        except ValueError:\n",
    "            print(\"Enter valid numbers\")\n",
    "\n",
    "        except KeyboardInterruptError:\n",
    "            exit\n",
    "\n",
    "        except e:\n",
    "            print(\"Error\",e)"
   ]
  },
  {
   "cell_type": "code",
   "execution_count": 30,
   "id": "b93352e6-0ea0-41cd-ba28-e7711170c62d",
   "metadata": {},
   "outputs": [
    {
     "name": "stdin",
     "output_type": "stream",
     "text": [
      "Students Name:  sam\n",
      "Enter students score(0-100) 78\n"
     ]
    },
    {
     "data": {
      "text/plain": [
       "('sam', 78)"
      ]
     },
     "execution_count": 30,
     "metadata": {},
     "output_type": "execute_result"
    }
   ],
   "source": [
    "get_student_grade()"
   ]
  },
  {
   "cell_type": "code",
   "execution_count": null,
   "id": "bf9c5e5f-5cb1-45a5-931c-df7e53ca76a5",
   "metadata": {},
   "outputs": [],
   "source": []
  }
 ],
 "metadata": {
  "kernelspec": {
   "display_name": "Python 3 (ipykernel)",
   "language": "python",
   "name": "python3"
  },
  "language_info": {
   "codemirror_mode": {
    "name": "ipython",
    "version": 3
   },
   "file_extension": ".py",
   "mimetype": "text/x-python",
   "name": "python",
   "nbconvert_exporter": "python",
   "pygments_lexer": "ipython3",
   "version": "3.13.5"
  }
 },
 "nbformat": 4,
 "nbformat_minor": 5
}
