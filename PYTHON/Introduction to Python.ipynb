{
 "cells": [
  {
   "cell_type": "markdown",
   "id": "e4868e95-14e8-4841-9557-2516595e5ee4",
   "metadata": {},
   "source": [
    "# Introduction to Python for Data Analysis"
   ]
  },
  {
   "cell_type": "code",
   "execution_count": 4,
   "id": "b64b5645-d518-4960-a027-cd7c9119d076",
   "metadata": {},
   "outputs": [
    {
     "data": {
      "text/plain": [
       "'Sam'"
      ]
     },
     "execution_count": 4,
     "metadata": {},
     "output_type": "execute_result"
    }
   ],
   "source": [
    "# This is a comment.  Python will ignore it\n",
    "\n",
    "name=\"Sam\"\n",
    "name"
   ]
  },
  {
   "cell_type": "code",
   "execution_count": 6,
   "id": "b1f6744b-7a32-456f-90d8-5dc59b957c80",
   "metadata": {},
   "outputs": [
    {
     "name": "stdout",
     "output_type": "stream",
     "text": [
      "Hello World\n",
      "Hello, welcome to Python for Data Analysis Class\n"
     ]
    }
   ],
   "source": [
    "# print statement==> Displays content to the users\n",
    "\n",
    "print(\"Hello World\") # Displays 'Hello World'\n",
    "print(\"Hello, welcome to Python for Data Analysis Class\")"
   ]
  },
  {
   "cell_type": "code",
   "execution_count": 8,
   "id": "44ddfc88-d5f6-4b7a-8cab-2098809ded78",
   "metadata": {},
   "outputs": [
    {
     "name": "stdin",
     "output_type": "stream",
     "text": [
      "Enter your email : sam@outlook\n"
     ]
    }
   ],
   "source": [
    "# input statement ==>Gets user input/ Gets data from the user.\n",
    "email= input(\"Enter your email :\")"
   ]
  },
  {
   "cell_type": "code",
   "execution_count": 10,
   "id": "0b9aeebc-059a-4898-bd90-88eec16e5134",
   "metadata": {},
   "outputs": [
    {
     "name": "stdin",
     "output_type": "stream",
     "text": [
      "Enter your password:  12345678\n"
     ]
    }
   ],
   "source": [
    "password= input(\"Enter your password: \")\n"
   ]
  },
  {
   "cell_type": "code",
   "execution_count": 21,
   "id": "134589e0-5634-4bfd-9ed6-e152f260be32",
   "metadata": {},
   "outputs": [
    {
     "name": "stdout",
     "output_type": "stream",
     "text": [
      "Jennifer\n",
      "30\n"
     ]
    }
   ],
   "source": [
    "# Declaring variables ==> variable_name = variable_value\n",
    "fname= \"Jennifer\"\n",
    "\n",
    "course= \"Data Analytics\"\n",
    "age=30\n",
    "gender= \"Male\"\n",
    "\n",
    "\n",
    "print(fname)\n",
    "print(age)"
   ]
  },
  {
   "cell_type": "code",
   "execution_count": 23,
   "id": "3353b301-2b98-4f5b-a314-b8eeb1996589",
   "metadata": {},
   "outputs": [
    {
     "name": "stdout",
     "output_type": "stream",
     "text": [
      "True\n"
     ]
    }
   ],
   "source": [
    "# Data Types\n",
    "\n",
    "# String ==> Any word, number, sentence in either single or multiple quotes\n",
    "name='Alice'\n",
    "age= \"25\" # You cannot perform mathematical operation (+,-,* ,/)\n",
    "email= \"example@gmail.com\"\n",
    "\n",
    "# Integers ==> Whole Numbers (non-decimal numbers)\n",
    "age= 25\n",
    "number_of_pages=200\n",
    "\n",
    "# float ==> Decimal numbers\n",
    "weight= 60.45\n",
    "height= 1.87\n",
    "\n",
    "# Boolean ==> True or False\n",
    "\n",
    "is_student= False\n",
    "is_kenyan= True\n",
    "\n",
    "if(3<4):\n",
    "    print(True)# Returns True\n"
   ]
  },
  {
   "cell_type": "code",
   "execution_count": null,
   "id": "66cb0197-f6e4-49e6-96e9-256f9017429c",
   "metadata": {},
   "outputs": [],
   "source": []
  }
 ],
 "metadata": {
  "kernelspec": {
   "display_name": "Python 3 (ipykernel)",
   "language": "python",
   "name": "python3"
  },
  "language_info": {
   "codemirror_mode": {
    "name": "ipython",
    "version": 3
   },
   "file_extension": ".py",
   "mimetype": "text/x-python",
   "name": "python",
   "nbconvert_exporter": "python",
   "pygments_lexer": "ipython3",
   "version": "3.13.5"
  }
 },
 "nbformat": 4,
 "nbformat_minor": 5
}
