{
 "cells": [
  {
   "cell_type": "markdown",
   "id": "82655979-68ac-414b-9aa9-12b7b018e1f6",
   "metadata": {},
   "source": [
    "# Introduction to Python for Data Analysis\n",
    "This is about lerning python for data analysis"
   ]
  },
  {
   "cell_type": "code",
   "execution_count": 2,
   "id": "f59722a5-9547-4d26-a2bb-622b36824988",
   "metadata": {},
   "outputs": [
    {
     "name": "stdout",
     "output_type": "stream",
     "text": [
      "Hello World\n"
     ]
    }
   ],
   "source": [
    "# This is a comment\n",
    "print(\"Hello World\")"
   ]
  },
  {
   "cell_type": "code",
   "execution_count": 3,
   "id": "35b5af91-9bac-4d16-a510-3bc2a589d4b7",
   "metadata": {},
   "outputs": [
    {
     "data": {
      "text/plain": [
       "23"
      ]
     },
     "execution_count": 3,
     "metadata": {},
     "output_type": "execute_result"
    }
   ],
   "source": [
    "11+12"
   ]
  },
  {
   "cell_type": "code",
   "execution_count": 4,
   "id": "9b4468da-0616-409c-b91c-f6c28e601bc3",
   "metadata": {},
   "outputs": [
    {
     "name": "stdout",
     "output_type": "stream",
     "text": [
      "Hello my name is XXX\n"
     ]
    }
   ],
   "source": [
    "print(\"Hello my name is XXX\")"
   ]
  },
  {
   "cell_type": "code",
   "execution_count": 5,
   "id": "ddd7b46c-1b0e-4b95-b63f-07a9953d5d5f",
   "metadata": {},
   "outputs": [
    {
     "name": "stdout",
     "output_type": "stream",
     "text": [
      "I am taking a Data Analytics COurse\n"
     ]
    }
   ],
   "source": [
    "print(\"I am taking a Data Analytics COurse\")"
   ]
  },
  {
   "cell_type": "code",
   "execution_count": 6,
   "id": "e477a813-3549-432f-8640-9c440674ef8e",
   "metadata": {},
   "outputs": [
    {
     "data": {
      "text/plain": [
       "1"
      ]
     },
     "execution_count": 6,
     "metadata": {},
     "output_type": "execute_result"
    }
   ],
   "source": [
    "24-23"
   ]
  },
  {
   "cell_type": "markdown",
   "id": "fd8cd945-11a7-4d79-9688-819cb506496d",
   "metadata": {},
   "source": [
    "### Get input from the user"
   ]
  },
  {
   "cell_type": "code",
   "execution_count": 14,
   "id": "55d750a1-6bbc-4483-8b61-ea9174d1a19f",
   "metadata": {},
   "outputs": [
    {
     "name": "stdin",
     "output_type": "stream",
     "text": [
      "What is your name:  Juuddy\n"
     ]
    },
    {
     "name": "stdout",
     "output_type": "stream",
     "text": [
      "Your name is  Juuddy\n"
     ]
    }
   ],
   "source": [
    "name= input(\"What is your name: \")\n",
    "print(\"Your name is \", name)"
   ]
  },
  {
   "cell_type": "code",
   "execution_count": 17,
   "id": "d844d02f-4ded-4e9d-b304-223dd05dca12",
   "metadata": {},
   "outputs": [
    {
     "name": "stdin",
     "output_type": "stream",
     "text": [
      "Enter first number:  50\n",
      "Enter second number:  45\n"
     ]
    },
    {
     "name": "stdout",
     "output_type": "stream",
     "text": [
      "Total sum is 95\n"
     ]
    }
   ],
   "source": [
    "firstnum= input(\"Enter first number: \")\n",
    "secondnum= input(\"Enter second number: \")\n",
    "\n",
    "total= int(firstnum) + int(secondnum)\n",
    "\n",
    "print(\"Total sum is\", total)"
   ]
  },
  {
   "cell_type": "code",
   "execution_count": null,
   "id": "b3838476-6e7d-4461-8b6f-8de6f2918a26",
   "metadata": {},
   "outputs": [],
   "source": [
    "\n",
    "# Print statments\n",
    "\n",
    "# input statments\n",
    "\n",
    "# Declare Variables\n",
    "name= \"Samuel\"\n",
    "age= 25\n",
    "gender= \"Male\"\n",
    "course= \"Data Analytics\"\n",
    "\n",
    "print(\"Hello\", name, \"you are\", age, \"years old!. Welcome to \", course,\"course\")"
   ]
  },
  {
   "cell_type": "code",
   "execution_count": null,
   "id": "c5b353e1-4c3d-4296-a504-d695b9eaa56d",
   "metadata": {},
   "outputs": [],
   "source": [
    "#  Data Types\n",
    "\n",
    "\n",
    "# String\n",
    "name= 'Alice'\n",
    "age= \"25\"\n",
    "\n",
    "# Integer -- Whole number\n",
    "age= 25\n",
    "number_of_pages= 200\n",
    "\n",
    "# Float --  With decimal points\n",
    "bank_balance= 150.45\n",
    "mpesa_balance= 7.20\n",
    "height= 1.7\n",
    "weight= 56.8\n",
    "\n",
    "## Boolean -- True or False\n",
    "is_student= False\n",
    "is_kenyan= True\n"
   ]
  },
  {
   "cell_type": "code",
   "execution_count": null,
   "id": "b06871f2-1953-402a-9556-d20fba304300",
   "metadata": {},
   "outputs": [],
   "source": []
  }
 ],
 "metadata": {
  "kernelspec": {
   "display_name": "Python 3 (ipykernel)",
   "language": "python",
   "name": "python3"
  },
  "language_info": {
   "codemirror_mode": {
    "name": "ipython",
    "version": 3
   },
   "file_extension": ".py",
   "mimetype": "text/x-python",
   "name": "python",
   "nbconvert_exporter": "python",
   "pygments_lexer": "ipython3",
   "version": "3.13.5"
  }
 },
 "nbformat": 4,
 "nbformat_minor": 5
}
