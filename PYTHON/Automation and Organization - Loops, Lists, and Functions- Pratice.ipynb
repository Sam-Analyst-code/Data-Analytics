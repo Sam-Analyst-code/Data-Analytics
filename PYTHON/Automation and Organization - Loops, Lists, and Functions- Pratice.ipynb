{
 "cells": [
  {
   "cell_type": "markdown",
   "id": "f1d4f010-1618-4196-ad9a-65896ddbf4ed",
   "metadata": {},
   "source": [
    "### What Are Lists? (Collections of Information)\n",
    "Imagine you have a shopping list written on paper. Instead of writing each item on a separate piece of\n",
    "paper, you write them all on one list. In Python, a list works the same way - it's a single variable that can\n",
    "hold multiple pieces of information."
   ]
  },
  {
   "cell_type": "code",
   "execution_count": 1,
   "id": "1cf8220c-13e5-470c-b328-6e3842d3b989",
   "metadata": {},
   "outputs": [],
   "source": [
    "fruits = [\"apple\", \"banana\", \"orange\", \"grape\"]\n",
    "numbers = [1, 5, 10, 15, 20]\n",
    "temperatures = [72.5, 68.9, 75.2, 80.1]\n",
    "mixed_list = [\"Alice\", 25, True, 5.8] # Lists can hold different t"
   ]
  },
  {
   "cell_type": "code",
   "execution_count": null,
   "id": "ca025830-cbe6-4d02-860a-6fd5b78ad963",
   "metadata": {},
   "outputs": [],
   "source": []
  }
 ],
 "metadata": {
  "kernelspec": {
   "display_name": "Python 3 (ipykernel)",
   "language": "python",
   "name": "python3"
  },
  "language_info": {
   "codemirror_mode": {
    "name": "ipython",
    "version": 3
   },
   "file_extension": ".py",
   "mimetype": "text/x-python",
   "name": "python",
   "nbconvert_exporter": "python",
   "pygments_lexer": "ipython3",
   "version": "3.13.5"
  }
 },
 "nbformat": 4,
 "nbformat_minor": 5
}
