{
 "cells": [
  {
   "cell_type": "markdown",
   "id": "260b8e12-a333-4227-8385-ffb84c35b682",
   "metadata": {},
   "source": [
    "# Logical Operators\n",
    "\n",
    "Using python code to perform calculations, compare values etc"
   ]
  },
  {
   "cell_type": "markdown",
   "id": "0544732d-9862-4912-8971-8cede5ac7fb6",
   "metadata": {},
   "source": [
    "## Basic Arithmetic Operations"
   ]
  },
  {
   "cell_type": "code",
   "execution_count": 4,
   "id": "0bef374a-22b8-4418-a077-71767a272f3a",
   "metadata": {},
   "outputs": [
    {
     "name": "stdout",
     "output_type": "stream",
     "text": [
      "My total expenses this month was  16000\n"
     ]
    }
   ],
   "source": [
    "# Assume you want to calculate your total monthly expenses\n",
    "\n",
    "food= 3000\n",
    "rent= 5000\n",
    "wifi= 1500\n",
    "miscellaneous= 3500\n",
    "savings= 3000\n",
    "\n",
    "\n",
    "total_expenses= food + rent + wifi + miscellaneous + savings\n",
    "\n",
    "print(\"My total expenses this month was \", total_expenses)"
   ]
  },
  {
   "cell_type": "code",
   "execution_count": 8,
   "id": "4b2a690a-1230-4738-ad62-9ed2606ad4b2",
   "metadata": {},
   "outputs": [
    {
     "name": "stdout",
     "output_type": "stream",
     "text": [
      "My bank balance at the end of the month is  24000 and I am not okay with it\n"
     ]
    }
   ],
   "source": [
    "total_salary= 40000\n",
    "left_over= total_salary- total_expenses\n",
    "\n",
    "print(f\"My bank balance at the end of the month is  {left_over} and I am not okay with it\")"
   ]
  },
  {
   "cell_type": "code",
   "execution_count": 9,
   "id": "005e6bb0-6f9b-4bf0-b9ec-f2de6c23274e",
   "metadata": {},
   "outputs": [
    {
     "name": "stdout",
     "output_type": "stream",
     "text": [
      "My monthly expenses on data bundles is 600KES\n"
     ]
    }
   ],
   "source": [
    "# How much bundles I spent monthly\n",
    "\n",
    "data_bundles= 20  # 20 sillings daily\n",
    "days_of_the_month= 30\n",
    "\n",
    "total_bundles_expense= data_bundles * days_of_the_month\n",
    "\n",
    "print(f\"My monthly expenses on data bundles is {total_bundles_expense}KES\")"
   ]
  },
  {
   "cell_type": "markdown",
   "id": "e46aa44b-6717-43a0-9be4-c6a0215bac7e",
   "metadata": {},
   "source": [
    "### Special Math Operations"
   ]
  },
  {
   "cell_type": "code",
   "execution_count": 15,
   "id": "53ed8338-98fb-4d99-9c76-769047980149",
   "metadata": {},
   "outputs": [
    {
     "name": "stdout",
     "output_type": "stream",
     "text": [
      "Each child gets 4 cookies\n"
     ]
    }
   ],
   "source": [
    "# Integer Division - division that gives whole numbers only\n",
    "total_cookies= 23\n",
    "total_children= 5\n",
    "\n",
    "cookies_per_child= total_cookies//total_children\n",
    "print(f\"Each child gets {cookies_per_child} cookies\")"
   ]
  },
  {
   "cell_type": "code",
   "execution_count": 16,
   "id": "2f295a2c-cfd1-4d1a-afb0-ccde34df8980",
   "metadata": {},
   "outputs": [
    {
     "name": "stdout",
     "output_type": "stream",
     "text": [
      "Remaining cookies were 3\n"
     ]
    }
   ],
   "source": [
    "# Modulo Division\n",
    "\n",
    "# remainder cookies\n",
    "left_over_cookies= total_cookies % total_children\n",
    "\n",
    "print(f\"Remaining cookies were {left_over_cookies}\")"
   ]
  },
  {
   "cell_type": "code",
   "execution_count": 17,
   "id": "39826df6-0c68-4d19-ba04-ad38bb7d5d70",
   "metadata": {},
   "outputs": [
    {
     "name": "stdout",
     "output_type": "stream",
     "text": [
      "We need 1 pizzas\n",
      "Plus we need 4 more slices (so get one more pizza)\n"
     ]
    }
   ],
   "source": [
    "# Example of planning for a party\n",
    "guests=12\n",
    "slices_per_pizza = 8\n",
    "\n",
    "# How many pizzas do we need\n",
    "pizzas_needed = guests // slices_per_pizza # Whole pizzas\n",
    "extra_slices_needed = guests % slices_per_pizza # Leftover guests\n",
    "\n",
    "print(f\"We need {pizzas_needed} pizzas\")\n",
    "\n",
    "if extra_slices_needed > 0:\n",
    "    print(f\"Plus we need {extra_slices_needed} more slices (so get one more pizza)\")\n"
   ]
  },
  {
   "cell_type": "markdown",
   "id": "ba2b2449-bb8d-4565-a0d7-5c8fba7b5986",
   "metadata": {},
   "source": [
    "### Comparison Operators (Asking Questions About Data)\n",
    "These operators help you compare things and get True/False answers:"
   ]
  },
  {
   "cell_type": "code",
   "execution_count": 19,
   "id": "2f3a4821-8aea-4177-b3a5-0a954e0af891",
   "metadata": {},
   "outputs": [
    {
     "name": "stdout",
     "output_type": "stream",
     "text": [
      "Are we the same age as my friend? False\n",
      "Are we different ages with my friend? True\n"
     ]
    }
   ],
   "source": [
    "my_age= 20\n",
    "my_friends_age= 35\n",
    "\n",
    "same_age= my_age== my_friends_age  # Returns False\n",
    "\n",
    "different_age= my_age != my_friends_age\n",
    "print(\"Are we the same age as my friend?\", same_age)\n",
    "print(\"Are we different ages with my friend?\", different_age)"
   ]
  },
  {
   "cell_type": "code",
   "execution_count": 2,
   "id": "9969082a-6e1f-47d3-9da2-810bff750e6c",
   "metadata": {},
   "outputs": [
    {
     "name": "stdin",
     "output_type": "stream",
     "text": [
      "Enter your age:  45\n"
     ]
    },
    {
     "name": "stdout",
     "output_type": "stream",
     "text": [
      "You can drink\n"
     ]
    }
   ],
   "source": [
    "age= input(\"Enter your age: \")\n",
    "\n",
    "\n",
    "if int(age) >= 21:\n",
    "    print(\"You can drink\")\n",
    "else:\n",
    "    print(\"You are too young\")\n",
    "    "
   ]
  },
  {
   "cell_type": "markdown",
   "id": "3f9ab7ae-82cf-423d-96fc-b44732b78b20",
   "metadata": {},
   "source": [
    "### Logical Operators"
   ]
  },
  {
   "cell_type": "markdown",
   "id": "2585052e-76fe-4320-a72f-46868712dbd0",
   "metadata": {},
   "source": [
    "#### The and Operator (ALL conditions must be true)\n",
    "Think of and like a strict bouncer at a club - you need to meet ALL requirements to get in:\n"
   ]
  },
  {
   "cell_type": "code",
   "execution_count": 30,
   "id": "98322f9e-df07-4c40-862c-66dc7a1d12c1",
   "metadata": {},
   "outputs": [
    {
     "name": "stdout",
     "output_type": "stream",
     "text": [
      "Can I drive? False\n"
     ]
    }
   ],
   "source": [
    "# To drive you must have a license and 18 years & above\n",
    "age=20\n",
    "has_license= False\n",
    "\n",
    "can_drive= age>=18 and has_license # returns False\n",
    "\n",
    "print(\"Can I drive?\", can_drive)"
   ]
  },
  {
   "cell_type": "markdown",
   "id": "233b3e10-5ec5-4c0f-8d9d-d23e07a6c2b0",
   "metadata": {},
   "source": [
    "#### The or Operator (At least ONE condition must be true)\n",
    "Think of or like a flexible rule - you just need to meet at least one requirement:"
   ]
  },
  {
   "cell_type": "code",
   "execution_count": 32,
   "id": "30d7b641-eae7-4d79-b4e7-e04d8640521d",
   "metadata": {},
   "outputs": [
    {
     "name": "stdout",
     "output_type": "stream",
     "text": [
      "Can sleep in: True\n"
     ]
    }
   ],
   "source": [
    "# You can sleep in if it's EITHER Saturday OR Sunday\n",
    "day = \"Saturday\"\n",
    "\n",
    "\n",
    "is_saturday = day == \"Saturday\" # True\n",
    "is_sunday = day == \"Sunday\"  # False\n",
    "\n",
    "can_sleep_in = is_saturday or is_sunday\n",
    "print(\"Can sleep in:\", can_sleep_in) # Shows: True\n"
   ]
  },
  {
   "cell_type": "markdown",
   "id": "6a0ee582-58e4-41be-801b-98a2e62db64e",
   "metadata": {},
   "source": [
    "#### The not Operator (Opposite of a condition)\n",
    "Think of not like flipping a switch - it makes True become False, and False become True:"
   ]
  },
  {
   "cell_type": "code",
   "execution_count": 35,
   "id": "bebfddc4-1e27-42e6-a2b6-e6d20bfb24c4",
   "metadata": {},
   "outputs": [
    {
     "name": "stdout",
     "output_type": "stream",
     "text": [
      "True\n"
     ]
    }
   ],
   "source": [
    "is_raining= False\n",
    "\n",
    "print(not is_raining)"
   ]
  },
  {
   "cell_type": "markdown",
   "id": "700a4cf5-5ba7-4a25-a6fa-72f98dbb5769",
   "metadata": {},
   "source": [
    "## Making Decisions with if/elif/else"
   ]
  },
  {
   "cell_type": "markdown",
   "id": "b8ebdc91-8dc2-49be-a567-997f083f3233",
   "metadata": {},
   "source": [
    "#### Simple if Statements (Do something only if a condition is true)"
   ]
  },
  {
   "cell_type": "code",
   "execution_count": 38,
   "id": "8bb00950-302b-4fae-98a0-0533ffb70bc4",
   "metadata": {},
   "outputs": [
    {
     "name": "stdout",
     "output_type": "stream",
     "text": [
      "Its too hot!! Hydrate!!\n"
     ]
    }
   ],
   "source": [
    "temperature =32\n",
    "\n",
    "if temperature >= 25:\n",
    "    print(\"Its too hot!! Hydrate!!\")"
   ]
  },
  {
   "cell_type": "markdown",
   "id": "bb4606bc-b688-4902-ae7d-f75bb1eb589f",
   "metadata": {},
   "source": [
    "#### if-else Statements (Choose between two options)"
   ]
  },
  {
   "cell_type": "code",
   "execution_count": 39,
   "id": "23e24f01-b788-4ca5-b04e-901471f597f3",
   "metadata": {},
   "outputs": [
    {
     "name": "stdout",
     "output_type": "stream",
     "text": [
      "You are eligible to vote\n"
     ]
    }
   ],
   "source": [
    "age= 25\n",
    "\n",
    "if age >= 18:\n",
    "    print(\"You are eligible to vote\")\n",
    "else:\n",
    "    print(\"You cannot vote!!\")"
   ]
  },
  {
   "cell_type": "markdown",
   "id": "27d75495-8339-4fd7-b786-93329803d983",
   "metadata": {},
   "source": [
    "#### Multiple Conditions with elif (Choose from many options)\n",
    "elif is short for \"else if\" - it's like asking multiple questions in order:"
   ]
  },
  {
   "cell_type": "code",
   "execution_count": 41,
   "id": "5261a842-3b88-4ce5-b8b1-61f3a2f6b110",
   "metadata": {},
   "outputs": [
    {
     "name": "stdout",
     "output_type": "stream",
     "text": [
      "Your grade is C\n"
     ]
    }
   ],
   "source": [
    "# Create a grading system\n",
    "\n",
    "marks= 65\n",
    "\n",
    "if marks >80:\n",
    "    print(\"Your grade is A\")\n",
    "    \n",
    "elif marks >=70 and  marks <=79:\n",
    "    print(\"Your grade is B\")\n",
    "\n",
    "elif marks >=60 and  marks <=69:\n",
    "    print(\"Your grade is C\")\n",
    "\n",
    "elif marks>=50 and marks <=59:\n",
    "    print(\"Your grade is D\")\n",
    "\n",
    "else:\n",
    "    print(\"YOu Failed!!!\")\n"
   ]
  },
  {
   "cell_type": "code",
   "execution_count": 48,
   "id": "7a43549b-d0b9-401c-8a66-6ebff551a71f",
   "metadata": {},
   "outputs": [
    {
     "name": "stdin",
     "output_type": "stream",
     "text": [
      "Enter first number : 34\n",
      "Enter second number : 23\n",
      "Choose operation (+, -, *, /, **, %):  \\\n"
     ]
    },
    {
     "name": "stdout",
     "output_type": "stream",
     "text": [
      "invalid operation!!\n"
     ]
    }
   ],
   "source": [
    "# Smart Calculator\n",
    "\n",
    "num1= int(input(\"Enter first number :\"))\n",
    "num2= int(input(\"Enter second number :\"))\n",
    "operation=input(\"Choose operation (+, -, *, /, **, %): \")\n",
    "\n",
    "\n",
    "if operation == \"+\":\n",
    "    result= num1+ num2\n",
    "    print(f\"Calculating: {num1} + {num2} = {result}\")\n",
    "elif operation == \"-\":\n",
    "    result= num1- num2\n",
    "    print(f\"Calculating: {num1} - {num2} = {result}\")\n",
    "\n",
    "elif operation == \"/\":\n",
    "    if num1==0 or num2==0:\n",
    "        print(\"Can't divide by 0\")\n",
    "    else:\n",
    "        result= num1/ num2\n",
    "    print(f\"Calculating: {num1} / {num2} = {result}\")\n",
    "elif operation == \"*\":\n",
    "    result= num1* num2\n",
    "    print(f\"Calculating: {num1} * {num2} = {result}\")\n",
    "elif operation == \"**\":\n",
    "    result= num1** num2\n",
    "    print(f\"Calculating: {num1} ** {num2} = {result}\")\n",
    "elif operation == \"%\":\n",
    "    result= num1 % num2\n",
    "    print(f\"Calculating: {num1} % {num2} = {result}\")\n",
    "else:\n",
    "    print(\"invalid operation!!\")"
   ]
  },
  {
   "cell_type": "code",
   "execution_count": null,
   "id": "a2eea42c-ee35-4062-bc20-3550f04d92ae",
   "metadata": {},
   "outputs": [],
   "source": []
  }
 ],
 "metadata": {
  "kernelspec": {
   "display_name": "Python 3 (ipykernel)",
   "language": "python",
   "name": "python3"
  },
  "language_info": {
   "codemirror_mode": {
    "name": "ipython",
    "version": 3
   },
   "file_extension": ".py",
   "mimetype": "text/x-python",
   "name": "python",
   "nbconvert_exporter": "python",
   "pygments_lexer": "ipython3",
   "version": "3.13.5"
  }
 },
 "nbformat": 4,
 "nbformat_minor": 5
}
